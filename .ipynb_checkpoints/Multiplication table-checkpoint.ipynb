{
 "cells": [
  {
   "cell_type": "raw",
   "metadata": {},
   "source": [
    "Your task, is to create NxN multiplication table, of size provided in parameter.\n",
    "\n",
    "for example, when given size is 3:\n",
    "\n",
    "1 2 3\n",
    "2 4 6\n",
    "3 6 9\n",
    "for given example, the return value should be: [[1,2,3],[2,4,6],[3,6,9]]"
   ]
  },
  {
   "cell_type": "code",
   "execution_count": 39,
   "metadata": {},
   "outputs": [],
   "source": [
    "def multiplication_table(size):\n",
    "    list_of_lists = []\n",
    "    for i in range(0, size):\n",
    "            this_list = []\n",
    "            for n in range(0, size):\n",
    "                this_list.append((i+1)*(n+1))\n",
    "            list_of_lists.append(this_list)\n",
    "    return list_of_lists"
   ]
  },
  {
   "cell_type": "code",
   "execution_count": 44,
   "metadata": {},
   "outputs": [
    {
     "data": {
      "text/plain": [
       "[[1, 2, 3, 4, 5, 6, 7, 8, 9, 10, 11, 12],\n",
       " [2, 4, 6, 8, 10, 12, 14, 16, 18, 20, 22, 24],\n",
       " [3, 6, 9, 12, 15, 18, 21, 24, 27, 30, 33, 36],\n",
       " [4, 8, 12, 16, 20, 24, 28, 32, 36, 40, 44, 48],\n",
       " [5, 10, 15, 20, 25, 30, 35, 40, 45, 50, 55, 60],\n",
       " [6, 12, 18, 24, 30, 36, 42, 48, 54, 60, 66, 72],\n",
       " [7, 14, 21, 28, 35, 42, 49, 56, 63, 70, 77, 84],\n",
       " [8, 16, 24, 32, 40, 48, 56, 64, 72, 80, 88, 96],\n",
       " [9, 18, 27, 36, 45, 54, 63, 72, 81, 90, 99, 108],\n",
       " [10, 20, 30, 40, 50, 60, 70, 80, 90, 100, 110, 120],\n",
       " [11, 22, 33, 44, 55, 66, 77, 88, 99, 110, 121, 132],\n",
       " [12, 24, 36, 48, 60, 72, 84, 96, 108, 120, 132, 144]]"
      ]
     },
     "execution_count": 44,
     "metadata": {},
     "output_type": "execute_result"
    }
   ],
   "source": [
    "multiplication_table(12)"
   ]
  },
  {
   "cell_type": "code",
   "execution_count": null,
   "metadata": {},
   "outputs": [],
   "source": []
  }
 ],
 "metadata": {
  "kernelspec": {
   "display_name": "Python 3",
   "language": "python",
   "name": "python3"
  },
  "language_info": {
   "codemirror_mode": {
    "name": "ipython",
    "version": 3
   },
   "file_extension": ".py",
   "mimetype": "text/x-python",
   "name": "python",
   "nbconvert_exporter": "python",
   "pygments_lexer": "ipython3",
   "version": "3.8.5"
  }
 },
 "nbformat": 4,
 "nbformat_minor": 4
}
