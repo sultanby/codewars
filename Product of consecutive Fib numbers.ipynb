{
 "cells": [
  {
   "cell_type": "markdown",
   "metadata": {},
   "source": [
    "The Fibonacci numbers are the numbers in the following integer sequence (Fn):\n",
    "\n",
    "0, 1, 1, 2, 3, 5, 8, 13, 21, 34, 55, 89, 144, 233, ...\n",
    "\n",
    "such as\n",
    "\n",
    "F(n) = F(n-1) + F(n-2) with F(0) = 0 and F(1) = 1.\n",
    "\n",
    "Given a number, say prod (for product), we search two Fibonacci numbers F(n) and F(n+1) verifying\n",
    "\n",
    "F(n) * F(n+1) = prod.\n",
    "\n",
    "Your function productFib takes an integer (prod) and returns an array:\n",
    "\n",
    "[F(n), F(n+1), true] or {F(n), F(n+1), 1} or (F(n), F(n+1), True)\n",
    "depending on the language if F(n) * F(n+1) = prod.\n",
    "\n",
    "If you don't find two consecutive F(m) verifying F(m) * F(m+1) = prod you will return:\n",
    "\n",
    "[F(m), F(m+1), false] or {F(n), F(n+1), 0} or (F(n), F(n+1), False)\n",
    "F(m) being the smallest one such as F(m) * F(m+1) > prod.\n",
    "\n",
    "Some Examples of Return:\n",
    "\n",
    "(depend on the language)\n",
    "\n",
    "productFib(714) # should return (21, 34, true), \n",
    "                # since F(8) = 21, F(9) = 34 and 714 = 21 * 34\n",
    "\n",
    "productFib(800) # should return (34, 55, false), \n",
    "                # since F(8) = 21, F(9) = 34, F(10) = 55 and 21 * 34 < 800 < 34 * 55"
   ]
  },
  {
   "cell_type": "code",
   "execution_count": 77,
   "metadata": {},
   "outputs": [],
   "source": [
    "def productFib(prod):\n",
    "    arr = [0, 1]\n",
    "    result = []\n",
    "    for i in range(2, prod):\n",
    "        arr.append(arr[i-1]+arr[i-2])\n",
    "        if arr[i]*arr[i-1] == prod:\n",
    "            result.append(arr[i-1])\n",
    "            result.append(arr[i])\n",
    "            result.append(True)\n",
    "            return result\n",
    "        elif arr[i]*arr[i-1] > prod:\n",
    "            result.append(arr[i-1])\n",
    "            result.append(arr[i])\n",
    "            result.append(False)\n",
    "            return result\n",
    "        else try \n",
    "            result.append(arr[i-1])\n",
    "            result.append(arr[i])\n",
    "            result.append(False)\n",
    "            except:\n",
    "                \n",
    "    return None"
   ]
  },
  {
   "cell_type": "code",
   "execution_count": 80,
   "metadata": {},
   "outputs": [],
   "source": [
    "productFib(4)"
   ]
  },
  {
   "cell_type": "code",
   "execution_count": null,
   "metadata": {},
   "outputs": [],
   "source": [
    "a = [0, 1, 1, 2, 3, 5, 8, 13, 21, 34, 55, 89, 144, 233]\n",
    "sum=0\n",
    "for element in a:\n",
    "    sum+=element\n",
    "print(sum)"
   ]
  },
  {
   "cell_type": "code",
   "execution_count": 145,
   "metadata": {},
   "outputs": [],
   "source": [
    "def productFib(prod):\n",
    "    n, m = 0, 1\n",
    "    if prod == 0:\n",
    "        return [0, 1, True]\n",
    "    while True:\n",
    "        n, m = m, n+m\n",
    "        if n*m > prod:\n",
    "            return [n, m, False]\n",
    "        elif n*m == prod:\n",
    "            return [n, m, True]\n",
    "        else: continue"
   ]
  },
  {
   "cell_type": "code",
   "execution_count": 146,
   "metadata": {},
   "outputs": [
    {
     "data": {
      "text/plain": [
       "[0, 1, True]"
      ]
     },
     "execution_count": 146,
     "metadata": {},
     "output_type": "execute_result"
    }
   ],
   "source": [
    "productFib(0)"
   ]
  },
  {
   "cell_type": "code",
   "execution_count": 118,
   "metadata": {},
   "outputs": [],
   "source": [
    "FibArray = [0,1]\n",
    " \n",
    "def fibonacci(n):\n",
    "    if n<=0:\n",
    "        print(\"Incorrect input\")\n",
    "    elif n<=len(FibArray):\n",
    "        return FibArray[n-1]\n",
    "    else:\n",
    "        temp_fib = fibonacci(n-1)+fibonacci(n-2)\n",
    "        FibArray.append(temp_fib)\n",
    "        return temp_fib"
   ]
  },
  {
   "cell_type": "code",
   "execution_count": 123,
   "metadata": {},
   "outputs": [
    {
     "name": "stdout",
     "output_type": "stream",
     "text": [
      "Incorrect input\n"
     ]
    }
   ],
   "source": [
    "fibonacci(0)"
   ]
  },
  {
   "cell_type": "code",
   "execution_count": null,
   "metadata": {},
   "outputs": [],
   "source": []
  }
 ],
 "metadata": {
  "celltoolbar": "Raw Cell Format",
  "kernelspec": {
   "display_name": "Python 3",
   "language": "python",
   "name": "python3"
  },
  "language_info": {
   "codemirror_mode": {
    "name": "ipython",
    "version": 3
   },
   "file_extension": ".py",
   "mimetype": "text/x-python",
   "name": "python",
   "nbconvert_exporter": "python",
   "pygments_lexer": "ipython3",
   "version": "3.8.5"
  }
 },
 "nbformat": 4,
 "nbformat_minor": 4
}
